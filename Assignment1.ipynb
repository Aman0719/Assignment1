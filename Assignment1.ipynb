{
 "cells": [
  {
   "cell_type": "code",
   "execution_count": null,
   "id": "ca5a5ad9-b278-400c-99ef-5d992a0617b8",
   "metadata": {},
   "outputs": [],
   "source": [
    "Q1. Who developed the python programming language?\n",
    "\n",
    "Ans- The Python programming language was developed by the Dutch programmer Guido van Rossum. \n",
    "     He started working on it in 1980s and finally released it on 12th February 1991.\n",
    "     He was born on 31 January 1956 and was awarded with Free Software Award for Advancement of Free Software.\n"
   ]
  },
  {
   "cell_type": "code",
   "execution_count": null,
   "id": "bdb95de7-3c52-451e-ac9a-3b7ff488a0fc",
   "metadata": {},
   "outputs": [],
   "source": [
    "Q2. Which type of programming does python support?\n",
    "\n",
    "Ans- The python is the interpreted programming language and it supports basically four types of programming, namely\n",
    "\n",
    "    1.\tImperative programming- Imperative programming is type of programming, where functions are implicitly coded in every step required to solve a problem.\n",
    "                                In this, every operation is coded and the code itself specifies how the problem is to be solved.\n",
    "\n",
    "    2.\tFunctional programming-  Though Python is not primarily a functional language, but it is able to support functional programming relatively easily because everything in Python is an object. \n",
    "                                 That means that function definitions can be assigned to variables and passed around. Here we try to bind everything in pure mathematical functions style. \n",
    "                                 Its main focus is on “what to solve” in contrast to an imperative style where the main focus is “how to solve“.\n",
    "\n",
    "    3.\tProcedural programming-  as the name suggests, in this type of programming, the code is executed in procedural or step by step way to develop any application. \n",
    "                                 In simple terms, it follows a particular direction.\n",
    "\n",
    "    4.\tObject-oriented programming- An object-oriented paradigm is to design the program using classes and objects. \n",
    "                                     It allows you to define classes to create objects. In-built Python classes are the most common data types in Python, such as strings, lists, dictionaries, and so on\n",
    "    "
   ]
  },
  {
   "cell_type": "code",
   "execution_count": null,
   "id": "cd94404e-1094-41a9-960c-ae0c15f78873",
   "metadata": {},
   "outputs": [],
   "source": [
    "Q3. Is Python case sensitive when dealing with identifiers?\n",
    "\n",
    "Ans- Yes, absolutely the python is case sensitive when dealing with the identifiers.\n",
    "     For example:- If a save a variable in the form of string such as \"AMANDEEP\", and then later on if i recall this same string in lower case like \"amandeep\", it will not recognise it. \n"
   ]
  },
  {
   "cell_type": "code",
   "execution_count": null,
   "id": "2a3209e0-cf7a-42d7-bc6c-2a24d4514a8b",
   "metadata": {},
   "outputs": [],
   "source": [
    "Q4. What is the correct extension of the Python file?\n",
    "\n",
    "Ans-The correct extension for the python file is ‘.py’. The python programs can be written in any text editor but to save these file we must add ‘.py’ extension to it.\n"
   ]
  },
  {
   "cell_type": "code",
   "execution_count": null,
   "id": "9992c321-a449-469b-9318-5b41c60a51ee",
   "metadata": {},
   "outputs": [],
   "source": [
    "Q5. Is Python code compiled or interpreted?\n",
    "\n",
    "Ans- In various books and websites, it is written that python is the interpreted language, which is a big myth. \n",
    "     The Python programming language is both Compiled and interpreted, which means when we run a code in python, it is first compiled then it is interpreted line by line. The compiled part is generally hidden from the programmer and it get deleted as soon as the code get executed in python.\n"
   ]
  },
  {
   "cell_type": "code",
   "execution_count": null,
   "id": "9a5b7188-2850-43fa-b07e-000a218afacd",
   "metadata": {},
   "outputs": [],
   "source": [
    "Q6. Name a few blocks of code used to define in python language.\n",
    "\n",
    "Ans- In Python, there are several blocks of code that are used to define different elements in a program, Such as:\n",
    "    \n",
    "    1.\tFunction Definition: A block of code that defines a reusable piece of functionality and is invoked by name. \n",
    "                             Functions are defined using the 'def' keyword.\n",
    "\n",
    "    2.\tConditional Statements: A block of code that is executed only if a certain condition is met. \n",
    "                                In Python, conditional statements are defined using if, elif, and else keywords.\n",
    "\n",
    "    3.\tLoops: A block of code that is executed multiple times, either a specific number of times or until a certain condition is met. \n",
    "               Python provides two types of loops: for loops and while loops.\n",
    "\n",
    "    4.\tClass Definition: A blueprint for creating objects, which can have attributes and methods. \n",
    "                          Classes are defined using the class keyword.\n",
    "\n",
    "    5.\tException Handling: A block of code that is executed when an error occurs. \n",
    "                            Exception handling is defined using the try, except, and finally keywords.\n",
    "        \n",
    "These blocks are used in the combinition to develop complex programs.\n"
   ]
  },
  {
   "cell_type": "code",
   "execution_count": null,
   "id": "5c1ad2f8-edc9-40f1-8be0-a327cf7a05aa",
   "metadata": {},
   "outputs": [],
   "source": [
    "Q7. State a character used to give single line comment in python.\n",
    "\n",
    "Ans- To write a single line comment in the python code, we use the Hash symbol '#\" at the starting of the line. \n",
    "     It is also known as the number sign or proud sign.\n",
    "\n",
    "     Example:- \n",
    "    #This is the example to show how can we write single line comment in Python using #.\n"
   ]
  },
  {
   "cell_type": "code",
   "execution_count": null,
   "id": "577217c8-8bc0-48f8-8239-b510b4ad8916",
   "metadata": {},
   "outputs": [],
   "source": [
    "Q8. Mention functions which can help us to find the version of python that we are currently working on?\n",
    "\n",
    "Ans- To get the Version of the python Interpreter, they are listed as follows:\n",
    "    \n",
    "    1. Using sys.version method\n",
    "       In this method, we first need to import the sys library, then by use the command sys.version we will get the version of python along with the \n",
    "       current date, time, bits etc\n",
    "\n",
    "\t2. Using python_version() function\n",
    "       This method can be used by importing the platform library and using the python_version() command. \n",
    "       It will always return the output as the ‘string’.\n",
    "\n",
    "\t3. Using Python -V command\n",
    "       It is the most common and the simplest method of finding the current version of python as it is the inbuilt command in the python programming."
   ]
  },
  {
   "cell_type": "code",
   "execution_count": null,
   "id": "84ee9777-09fc-4e21-9ca5-2a574e3cb6a8",
   "metadata": {},
   "outputs": [],
   "source": [
    "Q9. Python supports the creation of anonymous functions at runtime, using a construct called __________\n",
    "\n",
    "Ans- The anonymous functions are those functions in the python which are not bound to a name.\n",
    "     To create such function at runtime, the Python uses the Lambda Function.\n",
    "    \n",
    "Example:-\n",
    "x=lambda a,b: a+b\n",
    "print(x(3,4))\n",
    "\n",
    "x=lambda a,b: a*b\n",
    "print(x(3,4))\n",
    "\n",
    "Output\n",
    "7\n",
    "12"
   ]
  },
  {
   "cell_type": "code",
   "execution_count": null,
   "id": "741f2ba7-190b-45ba-b554-ea46dc1beb7c",
   "metadata": {},
   "outputs": [],
   "source": [
    "Q10. What does pip stands for python?\n",
    "\n",
    "Ans- The pip in Python stands for “Preferred Installer Program”. \n",
    "     It is a standard package manager for Python. Pip allows us to install and manage packages that aren't part of the Python standard library.\n"
   ]
  },
  {
   "cell_type": "code",
   "execution_count": null,
   "id": "f17e24de-4af8-4af1-87f8-2395fb4d09ab",
   "metadata": {},
   "outputs": [],
   "source": [
    "Q11. Mention a few built in functions in Python?\n",
    "\n",
    "Ans- The built-in functions are those functions which are pre-defined by the python interpreter. \n",
    "     There are total of 68 built-in function in the python. Some of the important and commonly used ones are:-\n",
    "    \n",
    "input()\t    Allowing user input\n",
    "sorted()\tReturns a sorted list\n",
    "int()\t    Returns an integer number\n",
    "len()\t    Returns the length of an object\n",
    "list()\t    Returns a list  \n",
    "float()   \tReturns a floating point number\n",
    "print()\t    Prints to the standard output device  \n",
    "str()\t    Returns a string object\n",
    "sum()\t    Sums the items of an iterator\n",
    "bytes()\t    Returns a bytes object\n"
   ]
  },
  {
   "cell_type": "code",
   "execution_count": null,
   "id": "d45e0a7c-78f7-491a-9619-e25be2526848",
   "metadata": {},
   "outputs": [],
   "source": [
    "Q12. What is the maximum possible length of an identifier in python?\n",
    "\n",
    "Ans- Python Identifier is the name we give to identify a variable, function, class, module or other object. \n",
    "     That means whenever we want to give an entity a name, that’s called identifier. \n",
    "     Though there is no restriction to the length of an identifier but the layout of PEP-8 prevents the user from breaking the rules and includes a '79-character limit'.\n",
    "     The '79' characters limit also ensures better readability and maintainability."
   ]
  },
  {
   "cell_type": "code",
   "execution_count": null,
   "id": "33bd04f6-e494-422b-88f4-02a449b2a8d8",
   "metadata": {},
   "outputs": [],
   "source": [
    "Q13. What are the benefits of using python?\n",
    "\n",
    "Ans- The python is the high-level, dynamically-typed, portable, expressive, and code programming language. \n",
    "     It has several unique features which gives it an edge over the other programming languages, such as\n",
    "\n",
    "    1.\tThird-Party Modules\n",
    "        Python Package Index comprises a multitude of third-party modules which makes Python integrate with other languages and platforms easily.\n",
    "\n",
    "\t2.  Presence of Libraries\n",
    "        Python has extensive collection of libraries that include string operations, internet protocols, web service tools, Machine Learning libraries, and operating System Interfaces. \n",
    "        The presence of these libraries essentially helps in reducing the code to be written by the programmer.\n",
    "        \n",
    "\t3.  Open Source and free\n",
    "        Python is free to be used by anyone even for commercial purposes. \n",
    "        Moreover, due to the open source nature ,active developers can contribute by developing modules and appending them to the existing library.\n",
    "\t\n",
    "    4.  Easy to learn\n",
    "        Python is popular for its excellent readability. This means, even a non-programmer can read and comprehend the uncluttered syntax. \n",
    "        The PEP 8 guidelines provide a set of rules to help in formatting the code.\n",
    "\t\n",
    "    5.  Speed\n",
    "        Being expressive and with object-oriented design, Python contributes to increased speed and productivity even with less amount of coding. \n",
    "        Python is considered ideal for developing complex, multi-protocol network applications.\n",
    "\t\n",
    "    6.  Built-in Data Structures\n",
    "        The built-in list and dictionary data structures of Python can be used to construct fast,  run-time data structures. \n",
    "        Further, the dynamic high-level data typing option of Python helps reduce the needed length of support code.\n",
    "\t\n",
    "    7.  Compatible with Various Platforms\n",
    "        Python is highly compatible and offers compatibility with various platforms. \n",
    "        It is the most significant feature that makes it first choice by the programmers. The well supported platforms on Python 3.7 and 2.7 include:\n",
    "        Linux\n",
    "        Windows Vista and newer for Python 3.7, Windows XP and newer for Python 2.7\n",
    "        FreeBSD 10 and newer\n",
    "        macOS Snow Leopard (macOS 10.6, 2008) and newer\n"
   ]
  },
  {
   "cell_type": "code",
   "execution_count": null,
   "id": "6f7d9605-dece-4705-a95b-821041ae7138",
   "metadata": {},
   "outputs": [],
   "source": [
    "Q14. How is memory managed in the Python?\n",
    "\n",
    "Ans- Memory management can be defined as allocating a block of space in the computer memory to an object in Python. \n",
    "     In Python, the Python Memory manager automatically manages the memory through a dedicated process known as reference counting. Each object in Python has a reference count, which keeps track of the number of references to that object. \n",
    "     When the reference count for an object reaches zero, the memory occupied by that object is de-allocated automatically by the Python garbage collector.\n",
    "     \n",
    "     Additionally, Python has a cyclic garbage collector, which periodically runs and identifies objects that are no longer reachable from any part of the program and frees up the memory occupied by these objects.\n",
    "\n",
    "     Apart from the above, there are two other specific methods namely “del” and “gc”. \n",
    "     In Python the “del” statement allows us to explicitly release the memory occupied by an object, and on the other hand the “gc” module provides access to the garbage collector for more advanced memory management tasks.\n"
   ]
  },
  {
   "cell_type": "code",
   "execution_count": null,
   "id": "f4d348f4-2989-4fd0-a247-2982a1a965a9",
   "metadata": {},
   "outputs": [],
   "source": [
    "Q15. How to install python on windows and set path variables?\n",
    "\n",
    "Ans- To install Python on Windows and set the path variables, you can follow these steps:\n",
    "    \n",
    "    1.\tDownload the latest version of Python from the official website: https://www.python.org/downloads/windows/\n",
    "    2.\tRun the Python installer file and follow the on-screen instructions to complete the installation.\n",
    "    3.\tAfter the completion of installation, the screen will show successful message that means the python has been installed on windows\n",
    "\n",
    "    Set Path Variable\n",
    "    There are two methods to set the path variable:-\n",
    "    \n",
    "    1.\tAutomatic\n",
    "        When we run the installation file after downloading, there is an option in the bottom side that reads “Add Python to Path”. If we tick this option, the path is automatically added.\n",
    "\n",
    "    2.\tManual\n",
    "        -First we need to find the path of python file in the C drive, which can found in the app data.\n",
    "        -Then, we should copy that path form the path tab.\n",
    "        -Open the Windows start menu, search for “Environment Variables”, and select “Edit the system environment variables”.\n",
    "        -In the System Properties window, click on the “Environment Variables” button.\n",
    "        -In the Environment Variables window, scroll down to the “System variables” section, and find the “Path” variable.\n",
    "        -Click on the “Edit” button and then add the path to the Python executable to the end of the existing path.The path will be something like \"C:\\PythonXX\\Scripts\" where XX is the version number of Python.\n",
    "        -Close the Environment Variables window and restart any open Command Prompt windows.\n"
   ]
  },
  {
   "cell_type": "code",
   "execution_count": null,
   "id": "f553b091-ef19-42e3-a3eb-a9f724877d23",
   "metadata": {},
   "outputs": [],
   "source": [
    "Q16. Is indentation required in python?\n",
    "\n",
    "Ans- Yes, indentation is one of the most significant part of the Python syntax and is used to define blocks of code, such as control structures (e.g., loops and conditionals) and functions. \n",
    "    \n",
    "     It is important to use consistent indentation throughout your code to avoid syntax errors and make your code more readable. \n",
    "        The recommended indentation level is 4 spaces, although it is possible to use tabs instead. However, it is recommended to stick to a single indentation style throughout your code to maintain readability.\n"
   ]
  }
 ],
 "metadata": {
  "kernelspec": {
   "display_name": "Python 3 (ipykernel)",
   "language": "python",
   "name": "python3"
  },
  "language_info": {
   "codemirror_mode": {
    "name": "ipython",
    "version": 3
   },
   "file_extension": ".py",
   "mimetype": "text/x-python",
   "name": "python",
   "nbconvert_exporter": "python",
   "pygments_lexer": "ipython3",
   "version": "3.10.8"
  }
 },
 "nbformat": 4,
 "nbformat_minor": 5
}
